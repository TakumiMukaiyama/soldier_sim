{
 "cells": [
  {
   "cell_type": "code",
   "execution_count": 1,
   "id": "79e60104",
   "metadata": {},
   "outputs": [],
   "source": [
    "import polars as pl"
   ]
  },
  {
   "cell_type": "code",
   "execution_count": 5,
   "id": "c6b5fb2e",
   "metadata": {},
   "outputs": [
    {
     "data": {
      "text/html": [
       "<div><style>\n",
       ".dataframe > thead > tr,\n",
       ".dataframe > tbody > tr {\n",
       "  text-align: right;\n",
       "  white-space: pre-wrap;\n",
       "}\n",
       "</style>\n",
       "<small>shape: (800, 12)</small><table border=\"1\" class=\"dataframe\"><thead><tr><th>id</th><th>time</th><th>agent_id</th><th>poi_id</th><th>location</th><th>activity_key</th><th>observation</th><th>current_energy</th><th>current_social</th><th>current_weapon_strength</th><th>current_hunger</th><th>current_management_skill</th></tr><tr><td>str</td><td>str</td><td>str</td><td>str</td><td>list[f64]</td><td>str</td><td>struct[4]</td><td>f64</td><td>f64</td><td>f64</td><td>f64</td><td>f64</td></tr></thead><tbody><tr><td>&quot;9f0cd370-cdad-4ec7-80ed-65ffd4…</td><td>&quot;2025-07-05T06:00:00&quot;</td><td>&quot;agent_1&quot;</td><td>&quot;training_ground_1&quot;</td><td>[10.0, 20.0]</td><td>&quot;train&quot;</td><td>{&quot;train&quot;,&quot;training_ground_1&quot;,&quot;Default training activity&quot;,2}</td><td>0.65</td><td>0.679</td><td>0.85</td><td>0.38</td><td>0.85</td></tr><tr><td>&quot;c312c6ff-2658-4eff-9fe9-bbb7f7…</td><td>&quot;2025-07-05T09:00:00&quot;</td><td>&quot;agent_1&quot;</td><td>&quot;training_ground_1&quot;</td><td>[10.0, 20.0]</td><td>&quot;train&quot;</td><td>{&quot;train&quot;,&quot;training_ground_1&quot;,&quot;Default training activity&quot;,2}</td><td>0.4</td><td>0.758</td><td>1.0</td><td>0.56</td><td>0.9</td></tr><tr><td>&quot;8b54aec5-076b-40c6-89f1-e9ca76…</td><td>&quot;2025-07-05T12:00:00&quot;</td><td>&quot;agent_1&quot;</td><td>&quot;training_ground_1&quot;</td><td>[10.0, 20.0]</td><td>&quot;train&quot;</td><td>{&quot;train&quot;,&quot;training_ground_1&quot;,&quot;Default training activity&quot;,2}</td><td>0.15</td><td>0.837</td><td>1.0</td><td>0.74</td><td>0.95</td></tr><tr><td>&quot;e018ba7e-44c7-4f12-a09c-23a0f9…</td><td>&quot;2025-07-05T15:00:00&quot;</td><td>&quot;agent_1&quot;</td><td>&quot;cafeteria_1&quot;</td><td>[5.0, 10.0]</td><td>&quot;eat&quot;</td><td>{&quot;eat&quot;,&quot;cafeteria_1&quot;,&quot;Hungry, need food&quot;,1}</td><td>0.2</td><td>1.0</td><td>1.0</td><td>0.32</td><td>0.95</td></tr><tr><td>&quot;f24864e5-dcbb-44da-b8f7-645bd3…</td><td>&quot;2025-07-05T18:00:00&quot;</td><td>&quot;agent_1&quot;</td><td>&quot;barracks_1&quot;</td><td>[3.0, 5.0]</td><td>&quot;rest&quot;</td><td>{&quot;rest&quot;,&quot;barracks_1&quot;,&quot;Low energy, need rest&quot;,2}</td><td>0.55</td><td>0.879</td><td>1.0</td><td>0.4</td><td>0.95</td></tr><tr><td>&hellip;</td><td>&hellip;</td><td>&hellip;</td><td>&hellip;</td><td>&hellip;</td><td>&hellip;</td><td>&hellip;</td><td>&hellip;</td><td>&hellip;</td><td>&hellip;</td><td>&hellip;</td><td>&hellip;</td></tr><tr><td>&quot;09666d77-1ea6-4fcb-8664-d94551…</td><td>&quot;2026-01-19T15:00:00&quot;</td><td>&quot;agent_1&quot;</td><td>&quot;cafeteria_1&quot;</td><td>[5.0, 10.0]</td><td>&quot;eat&quot;</td><td>{&quot;eat&quot;,&quot;cafeteria_1&quot;,&quot;Hungry, need food&quot;,1}</td><td>0.5</td><td>1.0</td><td>1.0</td><td>0.38</td><td>1.0</td></tr><tr><td>&quot;e4056b82-c570-4eca-a41f-a5b824…</td><td>&quot;2026-01-19T18:00:00&quot;</td><td>&quot;agent_1&quot;</td><td>&quot;training_ground_1&quot;</td><td>[10.0, 20.0]</td><td>&quot;train&quot;</td><td>{&quot;train&quot;,&quot;training_ground_1&quot;,&quot;Default training activity&quot;,2}</td><td>0.25</td><td>1.0</td><td>1.0</td><td>0.56</td><td>1.0</td></tr><tr><td>&quot;fdd608f6-1bc6-4c96-bcdb-9b1df5…</td><td>&quot;2026-01-19T21:00:00&quot;</td><td>&quot;agent_1&quot;</td><td>&quot;barracks_1&quot;</td><td>[3.0, 5.0]</td><td>&quot;rest&quot;</td><td>{&quot;rest&quot;,&quot;barracks_1&quot;,&quot;Low energy, need rest&quot;,2}</td><td>0.6</td><td>0.879</td><td>1.0</td><td>0.64</td><td>1.0</td></tr><tr><td>&quot;680b87a4-58b1-47bc-895a-988005…</td><td>&quot;2026-01-20T00:00:00&quot;</td><td>&quot;agent_1&quot;</td><td>&quot;cafeteria_1&quot;</td><td>[5.0, 10.0]</td><td>&quot;eat&quot;</td><td>{&quot;eat&quot;,&quot;cafeteria_1&quot;,&quot;Hungry, need food&quot;,1}</td><td>0.65</td><td>1.0</td><td>1.0</td><td>0.22</td><td>1.0</td></tr><tr><td>&quot;11131ce8-be93-47c8-bd51-bc8463…</td><td>&quot;2026-01-20T03:00:00&quot;</td><td>&quot;agent_1&quot;</td><td>&quot;training_ground_1&quot;</td><td>[10.0, 20.0]</td><td>&quot;train&quot;</td><td>{&quot;train&quot;,&quot;training_ground_1&quot;,&quot;Default training activity&quot;,2}</td><td>0.4</td><td>1.0</td><td>1.0</td><td>0.4</td><td>1.0</td></tr></tbody></table></div>"
      ],
      "text/plain": [
       "shape: (800, 12)\n",
       "┌───────────┬───────────┬──────────┬───────────┬───┬───────────┬───────────┬───────────┬───────────┐\n",
       "│ id        ┆ time      ┆ agent_id ┆ poi_id    ┆ … ┆ current_s ┆ current_w ┆ current_h ┆ current_m │\n",
       "│ ---       ┆ ---       ┆ ---      ┆ ---       ┆   ┆ ocial     ┆ eapon_str ┆ unger     ┆ anagement │\n",
       "│ str       ┆ str       ┆ str      ┆ str       ┆   ┆ ---       ┆ ength     ┆ ---       ┆ _skill    │\n",
       "│           ┆           ┆          ┆           ┆   ┆ f64       ┆ ---       ┆ f64       ┆ ---       │\n",
       "│           ┆           ┆          ┆           ┆   ┆           ┆ f64       ┆           ┆ f64       │\n",
       "╞═══════════╪═══════════╪══════════╪═══════════╪═══╪═══════════╪═══════════╪═══════════╪═══════════╡\n",
       "│ 9f0cd370- ┆ 2025-07-0 ┆ agent_1  ┆ training_ ┆ … ┆ 0.679     ┆ 0.85      ┆ 0.38      ┆ 0.85      │\n",
       "│ cdad-4ec7 ┆ 5T06:00:0 ┆          ┆ ground_1  ┆   ┆           ┆           ┆           ┆           │\n",
       "│ -80ed-65f ┆ 0         ┆          ┆           ┆   ┆           ┆           ┆           ┆           │\n",
       "│ fd4…      ┆           ┆          ┆           ┆   ┆           ┆           ┆           ┆           │\n",
       "│ c312c6ff- ┆ 2025-07-0 ┆ agent_1  ┆ training_ ┆ … ┆ 0.758     ┆ 1.0       ┆ 0.56      ┆ 0.9       │\n",
       "│ 2658-4eff ┆ 5T09:00:0 ┆          ┆ ground_1  ┆   ┆           ┆           ┆           ┆           │\n",
       "│ -9fe9-bbb ┆ 0         ┆          ┆           ┆   ┆           ┆           ┆           ┆           │\n",
       "│ 7f7…      ┆           ┆          ┆           ┆   ┆           ┆           ┆           ┆           │\n",
       "│ 8b54aec5- ┆ 2025-07-0 ┆ agent_1  ┆ training_ ┆ … ┆ 0.837     ┆ 1.0       ┆ 0.74      ┆ 0.95      │\n",
       "│ 076b-40c6 ┆ 5T12:00:0 ┆          ┆ ground_1  ┆   ┆           ┆           ┆           ┆           │\n",
       "│ -89f1-e9c ┆ 0         ┆          ┆           ┆   ┆           ┆           ┆           ┆           │\n",
       "│ a76…      ┆           ┆          ┆           ┆   ┆           ┆           ┆           ┆           │\n",
       "│ e018ba7e- ┆ 2025-07-0 ┆ agent_1  ┆ cafeteria ┆ … ┆ 1.0       ┆ 1.0       ┆ 0.32      ┆ 0.95      │\n",
       "│ 44c7-4f12 ┆ 5T15:00:0 ┆          ┆ _1        ┆   ┆           ┆           ┆           ┆           │\n",
       "│ -a09c-23a ┆ 0         ┆          ┆           ┆   ┆           ┆           ┆           ┆           │\n",
       "│ 0f9…      ┆           ┆          ┆           ┆   ┆           ┆           ┆           ┆           │\n",
       "│ f24864e5- ┆ 2025-07-0 ┆ agent_1  ┆ barracks_ ┆ … ┆ 0.879     ┆ 1.0       ┆ 0.4       ┆ 0.95      │\n",
       "│ dcbb-44da ┆ 5T18:00:0 ┆          ┆ 1         ┆   ┆           ┆           ┆           ┆           │\n",
       "│ -b8f7-645 ┆ 0         ┆          ┆           ┆   ┆           ┆           ┆           ┆           │\n",
       "│ bd3…      ┆           ┆          ┆           ┆   ┆           ┆           ┆           ┆           │\n",
       "│ …         ┆ …         ┆ …        ┆ …         ┆ … ┆ …         ┆ …         ┆ …         ┆ …         │\n",
       "│ 09666d77- ┆ 2026-01-1 ┆ agent_1  ┆ cafeteria ┆ … ┆ 1.0       ┆ 1.0       ┆ 0.38      ┆ 1.0       │\n",
       "│ 1ea6-4fcb ┆ 9T15:00:0 ┆          ┆ _1        ┆   ┆           ┆           ┆           ┆           │\n",
       "│ -8664-d94 ┆ 0         ┆          ┆           ┆   ┆           ┆           ┆           ┆           │\n",
       "│ 551…      ┆           ┆          ┆           ┆   ┆           ┆           ┆           ┆           │\n",
       "│ e4056b82- ┆ 2026-01-1 ┆ agent_1  ┆ training_ ┆ … ┆ 1.0       ┆ 1.0       ┆ 0.56      ┆ 1.0       │\n",
       "│ c570-4eca ┆ 9T18:00:0 ┆          ┆ ground_1  ┆   ┆           ┆           ┆           ┆           │\n",
       "│ -a41f-a5b ┆ 0         ┆          ┆           ┆   ┆           ┆           ┆           ┆           │\n",
       "│ 824…      ┆           ┆          ┆           ┆   ┆           ┆           ┆           ┆           │\n",
       "│ fdd608f6- ┆ 2026-01-1 ┆ agent_1  ┆ barracks_ ┆ … ┆ 0.879     ┆ 1.0       ┆ 0.64      ┆ 1.0       │\n",
       "│ 1bc6-4c96 ┆ 9T21:00:0 ┆          ┆ 1         ┆   ┆           ┆           ┆           ┆           │\n",
       "│ -bcdb-9b1 ┆ 0         ┆          ┆           ┆   ┆           ┆           ┆           ┆           │\n",
       "│ df5…      ┆           ┆          ┆           ┆   ┆           ┆           ┆           ┆           │\n",
       "│ 680b87a4- ┆ 2026-01-2 ┆ agent_1  ┆ cafeteria ┆ … ┆ 1.0       ┆ 1.0       ┆ 0.22      ┆ 1.0       │\n",
       "│ 58b1-47bc ┆ 0T00:00:0 ┆          ┆ _1        ┆   ┆           ┆           ┆           ┆           │\n",
       "│ -895a-988 ┆ 0         ┆          ┆           ┆   ┆           ┆           ┆           ┆           │\n",
       "│ 005…      ┆           ┆          ┆           ┆   ┆           ┆           ┆           ┆           │\n",
       "│ 11131ce8- ┆ 2026-01-2 ┆ agent_1  ┆ training_ ┆ … ┆ 1.0       ┆ 1.0       ┆ 0.4       ┆ 1.0       │\n",
       "│ be93-47c8 ┆ 0T03:00:0 ┆          ┆ ground_1  ┆   ┆           ┆           ┆           ┆           │\n",
       "│ -bd51-bc8 ┆ 0         ┆          ┆           ┆   ┆           ┆           ┆           ┆           │\n",
       "│ 463…      ┆           ┆          ┆           ┆   ┆           ┆           ┆           ┆           │\n",
       "└───────────┴───────────┴──────────┴───────────┴───┴───────────┴───────────┴───────────┴───────────┘"
      ]
     },
     "execution_count": 5,
     "metadata": {},
     "output_type": "execute_result"
    }
   ],
   "source": [
    "temporal_memory = pl.read_parquet(\"output/20250705_013458/temporal_memory.parquet\")\n",
    "\n",
    "temporal_memory.filter(pl.col(\"agent_id\") == \"agent_1\")"
   ]
  },
  {
   "cell_type": "code",
   "execution_count": null,
   "id": "1b49ea72",
   "metadata": {},
   "outputs": [],
   "source": []
  }
 ],
 "metadata": {
  "kernelspec": {
   "display_name": ".venv",
   "language": "python",
   "name": "python3"
  },
  "language_info": {
   "codemirror_mode": {
    "name": "ipython",
    "version": 3
   },
   "file_extension": ".py",
   "mimetype": "text/x-python",
   "name": "python",
   "nbconvert_exporter": "python",
   "pygments_lexer": "ipython3",
   "version": "3.13.5"
  }
 },
 "nbformat": 4,
 "nbformat_minor": 5
}
