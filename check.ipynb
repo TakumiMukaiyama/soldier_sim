{
 "cells": [
  {
   "cell_type": "code",
   "execution_count": 33,
   "id": "79e60104",
   "metadata": {},
   "outputs": [],
   "source": [
    "import polars as pl\n",
    "from matplotlib import pyplot as plt"
   ]
  },
  {
   "cell_type": "code",
   "execution_count": 29,
   "id": "c6b5fb2e",
   "metadata": {},
   "outputs": [
    {
     "data": {
      "text/html": [
       "<div><style>\n",
       ".dataframe > thead > tr,\n",
       ".dataframe > tbody > tr {\n",
       "  text-align: right;\n",
       "  white-space: pre-wrap;\n",
       "}\n",
       "</style>\n",
       "<small>shape: (80_000, 12)</small><table border=\"1\" class=\"dataframe\"><thead><tr><th>id</th><th>time</th><th>agent_id</th><th>poi_id</th><th>location</th><th>activity_key</th><th>observation</th><th>current_energy</th><th>current_social</th><th>current_weapon_strength</th><th>current_hunger</th><th>current_management_skill</th></tr><tr><td>str</td><td>str</td><td>str</td><td>str</td><td>list[f64]</td><td>str</td><td>struct[4]</td><td>f64</td><td>f64</td><td>f64</td><td>f64</td><td>f64</td></tr></thead><tbody><tr><td>&quot;e1651ea1-e901-49fe-a34c-8d4e67…</td><td>&quot;2025-07-06T06:00:00&quot;</td><td>&quot;agent_1&quot;</td><td>&quot;training_ground_1&quot;</td><td>[10.0, 20.0]</td><td>&quot;train&quot;</td><td>{&quot;train&quot;,&quot;training_ground_1&quot;,&quot;Default training activity&quot;,2}</td><td>0.73281</td><td>0.575122</td><td>0.770851</td><td>0.303637</td><td>0.838838</td></tr><tr><td>&quot;2b672b64-f767-4548-87c4-d21e66…</td><td>&quot;2025-07-06T06:00:00&quot;</td><td>&quot;agent_2&quot;</td><td>&quot;training_ground_1&quot;</td><td>[10.0, 20.0]</td><td>&quot;train&quot;</td><td>{&quot;train&quot;,&quot;training_ground_1&quot;,&quot;Default training activity&quot;,2}</td><td>0.709466</td><td>0.678025</td><td>0.810339</td><td>0.36196</td><td>0.617575</td></tr><tr><td>&quot;2f57ee61-0da5-4a7f-bb37-40a5c4…</td><td>&quot;2025-07-06T06:00:00&quot;</td><td>&quot;agent_3&quot;</td><td>&quot;training_ground_1&quot;</td><td>[10.0, 20.0]</td><td>&quot;train&quot;</td><td>{&quot;train&quot;,&quot;training_ground_1&quot;,&quot;Default training activity&quot;,2}</td><td>0.546536</td><td>0.660746</td><td>0.806035</td><td>0.390225</td><td>0.684587</td></tr><tr><td>&quot;32482946-2a2a-4528-b367-88ea6d…</td><td>&quot;2025-07-06T06:00:00&quot;</td><td>&quot;agent_4&quot;</td><td>&quot;training_ground_1&quot;</td><td>[10.0, 20.0]</td><td>&quot;train&quot;</td><td>{&quot;train&quot;,&quot;training_ground_1&quot;,&quot;Default training activity&quot;,2}</td><td>0.697648</td><td>0.273079</td><td>0.835427</td><td>0.51092</td><td>0.561389</td></tr><tr><td>&quot;45b1e25d-342a-4f1e-b2f6-70e497…</td><td>&quot;2025-07-06T06:00:00&quot;</td><td>&quot;agent_5&quot;</td><td>&quot;cafeteria_1&quot;</td><td>[5.0, 10.0]</td><td>&quot;eat&quot;</td><td>{&quot;eat&quot;,&quot;cafeteria_1&quot;,&quot;Hungry, need food&quot;,1}</td><td>0.695806</td><td>0.752549</td><td>0.773492</td><td>0.501837</td><td>0.31126</td></tr><tr><td>&hellip;</td><td>&hellip;</td><td>&hellip;</td><td>&hellip;</td><td>&hellip;</td><td>&hellip;</td><td>&hellip;</td><td>&hellip;</td><td>&hellip;</td><td>&hellip;</td><td>&hellip;</td><td>&hellip;</td></tr><tr><td>&quot;627b46d3-d160-44f0-bbf1-4ba0c0…</td><td>&quot;2026-01-21T03:00:00&quot;</td><td>&quot;agent_96&quot;</td><td>&quot;cafeteria_1&quot;</td><td>[5.0, 10.0]</td><td>&quot;eat&quot;</td><td>{&quot;eat&quot;,&quot;cafeteria_1&quot;,&quot;Hungry, need food&quot;,1}</td><td>0.291528</td><td>0.639001</td><td>0.975542</td><td>0.441275</td><td>0.935122</td></tr><tr><td>&quot;3fbc4de5-dafc-43fd-9360-40588f…</td><td>&quot;2026-01-21T03:00:00&quot;</td><td>&quot;agent_97&quot;</td><td>&quot;training_ground_1&quot;</td><td>[10.0, 20.0]</td><td>&quot;train&quot;</td><td>{&quot;train&quot;,&quot;training_ground_1&quot;,&quot;Default training activity&quot;,2}</td><td>0.321142</td><td>0.692828</td><td>0.972113</td><td>0.56771</td><td>0.923212</td></tr><tr><td>&quot;1ac2bf52-d466-46c2-8f47-724714…</td><td>&quot;2026-01-21T03:00:00&quot;</td><td>&quot;agent_98&quot;</td><td>&quot;cafeteria_1&quot;</td><td>[5.0, 10.0]</td><td>&quot;eat&quot;</td><td>{&quot;eat&quot;,&quot;cafeteria_1&quot;,&quot;Hungry, need food&quot;,1}</td><td>0.32739</td><td>0.630066</td><td>0.97305</td><td>0.502527</td><td>0.928398</td></tr><tr><td>&quot;9daf8e6c-6cc0-46a2-b030-e6b719…</td><td>&quot;2026-01-21T03:00:00&quot;</td><td>&quot;agent_99&quot;</td><td>&quot;cafeteria_1&quot;</td><td>[5.0, 10.0]</td><td>&quot;eat&quot;</td><td>{&quot;eat&quot;,&quot;cafeteria_1&quot;,&quot;Hungry, need food&quot;,1}</td><td>0.467058</td><td>0.686003</td><td>0.970109</td><td>0.470131</td><td>0.923436</td></tr><tr><td>&quot;a1a6f775-19bf-45c9-a6f1-995f39…</td><td>&quot;2026-01-21T03:00:00&quot;</td><td>&quot;agent_100&quot;</td><td>&quot;barracks_1&quot;</td><td>[3.0, 5.0]</td><td>&quot;rest&quot;</td><td>{&quot;rest&quot;,&quot;barracks_1&quot;,&quot;Low energy, need rest&quot;,2}</td><td>0.476234</td><td>0.651597</td><td>0.963558</td><td>0.648035</td><td>0.913271</td></tr></tbody></table></div>"
      ],
      "text/plain": [
       "shape: (80_000, 12)\n",
       "┌───────────┬───────────┬───────────┬───────────┬───┬───────────┬───────────┬───────────┬──────────┐\n",
       "│ id        ┆ time      ┆ agent_id  ┆ poi_id    ┆ … ┆ current_s ┆ current_w ┆ current_h ┆ current_ │\n",
       "│ ---       ┆ ---       ┆ ---       ┆ ---       ┆   ┆ ocial     ┆ eapon_str ┆ unger     ┆ manageme │\n",
       "│ str       ┆ str       ┆ str       ┆ str       ┆   ┆ ---       ┆ ength     ┆ ---       ┆ nt_skill │\n",
       "│           ┆           ┆           ┆           ┆   ┆ f64       ┆ ---       ┆ f64       ┆ ---      │\n",
       "│           ┆           ┆           ┆           ┆   ┆           ┆ f64       ┆           ┆ f64      │\n",
       "╞═══════════╪═══════════╪═══════════╪═══════════╪═══╪═══════════╪═══════════╪═══════════╪══════════╡\n",
       "│ e1651ea1- ┆ 2025-07-0 ┆ agent_1   ┆ training_ ┆ … ┆ 0.575122  ┆ 0.770851  ┆ 0.303637  ┆ 0.838838 │\n",
       "│ e901-49fe ┆ 6T06:00:0 ┆           ┆ ground_1  ┆   ┆           ┆           ┆           ┆          │\n",
       "│ -a34c-8d4 ┆ 0         ┆           ┆           ┆   ┆           ┆           ┆           ┆          │\n",
       "│ e67…      ┆           ┆           ┆           ┆   ┆           ┆           ┆           ┆          │\n",
       "│ 2b672b64- ┆ 2025-07-0 ┆ agent_2   ┆ training_ ┆ … ┆ 0.678025  ┆ 0.810339  ┆ 0.36196   ┆ 0.617575 │\n",
       "│ f767-4548 ┆ 6T06:00:0 ┆           ┆ ground_1  ┆   ┆           ┆           ┆           ┆          │\n",
       "│ -87c4-d21 ┆ 0         ┆           ┆           ┆   ┆           ┆           ┆           ┆          │\n",
       "│ e66…      ┆           ┆           ┆           ┆   ┆           ┆           ┆           ┆          │\n",
       "│ 2f57ee61- ┆ 2025-07-0 ┆ agent_3   ┆ training_ ┆ … ┆ 0.660746  ┆ 0.806035  ┆ 0.390225  ┆ 0.684587 │\n",
       "│ 0da5-4a7f ┆ 6T06:00:0 ┆           ┆ ground_1  ┆   ┆           ┆           ┆           ┆          │\n",
       "│ -bb37-40a ┆ 0         ┆           ┆           ┆   ┆           ┆           ┆           ┆          │\n",
       "│ 5c4…      ┆           ┆           ┆           ┆   ┆           ┆           ┆           ┆          │\n",
       "│ 32482946- ┆ 2025-07-0 ┆ agent_4   ┆ training_ ┆ … ┆ 0.273079  ┆ 0.835427  ┆ 0.51092   ┆ 0.561389 │\n",
       "│ 2a2a-4528 ┆ 6T06:00:0 ┆           ┆ ground_1  ┆   ┆           ┆           ┆           ┆          │\n",
       "│ -b367-88e ┆ 0         ┆           ┆           ┆   ┆           ┆           ┆           ┆          │\n",
       "│ a6d…      ┆           ┆           ┆           ┆   ┆           ┆           ┆           ┆          │\n",
       "│ 45b1e25d- ┆ 2025-07-0 ┆ agent_5   ┆ cafeteria ┆ … ┆ 0.752549  ┆ 0.773492  ┆ 0.501837  ┆ 0.31126  │\n",
       "│ 342a-4f1e ┆ 6T06:00:0 ┆           ┆ _1        ┆   ┆           ┆           ┆           ┆          │\n",
       "│ -b2f6-70e ┆ 0         ┆           ┆           ┆   ┆           ┆           ┆           ┆          │\n",
       "│ 497…      ┆           ┆           ┆           ┆   ┆           ┆           ┆           ┆          │\n",
       "│ …         ┆ …         ┆ …         ┆ …         ┆ … ┆ …         ┆ …         ┆ …         ┆ …        │\n",
       "│ 627b46d3- ┆ 2026-01-2 ┆ agent_96  ┆ cafeteria ┆ … ┆ 0.639001  ┆ 0.975542  ┆ 0.441275  ┆ 0.935122 │\n",
       "│ d160-44f0 ┆ 1T03:00:0 ┆           ┆ _1        ┆   ┆           ┆           ┆           ┆          │\n",
       "│ -bbf1-4ba ┆ 0         ┆           ┆           ┆   ┆           ┆           ┆           ┆          │\n",
       "│ 0c0…      ┆           ┆           ┆           ┆   ┆           ┆           ┆           ┆          │\n",
       "│ 3fbc4de5- ┆ 2026-01-2 ┆ agent_97  ┆ training_ ┆ … ┆ 0.692828  ┆ 0.972113  ┆ 0.56771   ┆ 0.923212 │\n",
       "│ dafc-43fd ┆ 1T03:00:0 ┆           ┆ ground_1  ┆   ┆           ┆           ┆           ┆          │\n",
       "│ -9360-405 ┆ 0         ┆           ┆           ┆   ┆           ┆           ┆           ┆          │\n",
       "│ 88f…      ┆           ┆           ┆           ┆   ┆           ┆           ┆           ┆          │\n",
       "│ 1ac2bf52- ┆ 2026-01-2 ┆ agent_98  ┆ cafeteria ┆ … ┆ 0.630066  ┆ 0.97305   ┆ 0.502527  ┆ 0.928398 │\n",
       "│ d466-46c2 ┆ 1T03:00:0 ┆           ┆ _1        ┆   ┆           ┆           ┆           ┆          │\n",
       "│ -8f47-724 ┆ 0         ┆           ┆           ┆   ┆           ┆           ┆           ┆          │\n",
       "│ 714…      ┆           ┆           ┆           ┆   ┆           ┆           ┆           ┆          │\n",
       "│ 9daf8e6c- ┆ 2026-01-2 ┆ agent_99  ┆ cafeteria ┆ … ┆ 0.686003  ┆ 0.970109  ┆ 0.470131  ┆ 0.923436 │\n",
       "│ 6cc0-46a2 ┆ 1T03:00:0 ┆           ┆ _1        ┆   ┆           ┆           ┆           ┆          │\n",
       "│ -b030-e6b ┆ 0         ┆           ┆           ┆   ┆           ┆           ┆           ┆          │\n",
       "│ 719…      ┆           ┆           ┆           ┆   ┆           ┆           ┆           ┆          │\n",
       "│ a1a6f775- ┆ 2026-01-2 ┆ agent_100 ┆ barracks_ ┆ … ┆ 0.651597  ┆ 0.963558  ┆ 0.648035  ┆ 0.913271 │\n",
       "│ 19bf-45c9 ┆ 1T03:00:0 ┆           ┆ 1         ┆   ┆           ┆           ┆           ┆          │\n",
       "│ -a6f1-995 ┆ 0         ┆           ┆           ┆   ┆           ┆           ┆           ┆          │\n",
       "│ f39…      ┆           ┆           ┆           ┆   ┆           ┆           ┆           ┆          │\n",
       "└───────────┴───────────┴───────────┴───────────┴───┴───────────┴───────────┴───────────┴──────────┘"
      ]
     },
     "execution_count": 29,
     "metadata": {},
     "output_type": "execute_result"
    }
   ],
   "source": [
    "temporal_memory = pl.read_parquet(\"output/20250706_223109/temporal_memory.parquet\")\n",
    "\n",
    "temporal_memory"
   ]
  },
  {
   "cell_type": "code",
   "execution_count": 30,
   "id": "1b49ea72",
   "metadata": {},
   "outputs": [],
   "source": [
    "last_rows = temporal_memory.group_by(\"agent_id\").agg(\n",
    "    [\n",
    "        pl.col(\"current_energy\").last(),\n",
    "        pl.col(\"current_social\").last(),\n",
    "        pl.col(\"current_weapon_strength\").last(),\n",
    "        pl.col(\"current_hunger\").last(),\n",
    "        pl.col(\"current_management_skill\").last(),\n",
    "    ]\n",
    ")"
   ]
  },
  {
   "cell_type": "code",
   "execution_count": 36,
   "id": "171d3687",
   "metadata": {},
   "outputs": [
    {
     "data": {
      "text/html": [
       "<div><style>\n",
       ".dataframe > thead > tr,\n",
       ".dataframe > tbody > tr {\n",
       "  text-align: right;\n",
       "  white-space: pre-wrap;\n",
       "}\n",
       "</style>\n",
       "<small>shape: (9, 7)</small><table border=\"1\" class=\"dataframe\"><thead><tr><th>statistic</th><th>agent_id</th><th>current_energy</th><th>current_social</th><th>current_weapon_strength</th><th>current_hunger</th><th>current_management_skill</th></tr><tr><td>str</td><td>str</td><td>f64</td><td>f64</td><td>f64</td><td>f64</td><td>f64</td></tr></thead><tbody><tr><td>&quot;count&quot;</td><td>&quot;100&quot;</td><td>100.0</td><td>100.0</td><td>100.0</td><td>100.0</td><td>100.0</td></tr><tr><td>&quot;null_count&quot;</td><td>&quot;0&quot;</td><td>0.0</td><td>0.0</td><td>0.0</td><td>0.0</td><td>0.0</td></tr><tr><td>&quot;mean&quot;</td><td>null</td><td>0.401986</td><td>0.630966</td><td>0.966225</td><td>0.57335</td><td>0.918306</td></tr><tr><td>&quot;std&quot;</td><td>null</td><td>0.09338</td><td>0.048484</td><td>0.010507</td><td>0.086577</td><td>0.016281</td></tr><tr><td>&quot;min&quot;</td><td>&quot;agent_1&quot;</td><td>0.249163</td><td>0.518135</td><td>0.918308</td><td>0.404565</td><td>0.85562</td></tr><tr><td>&quot;25%&quot;</td><td>null</td><td>0.325003</td><td>0.600566</td><td>0.965076</td><td>0.498671</td><td>0.918221</td></tr><tr><td>&quot;50%&quot;</td><td>null</td><td>0.395222</td><td>0.627285</td><td>0.968287</td><td>0.583173</td><td>0.923041</td></tr><tr><td>&quot;75%&quot;</td><td>null</td><td>0.487906</td><td>0.674171</td><td>0.972099</td><td>0.63589</td><td>0.927827</td></tr><tr><td>&quot;max&quot;</td><td>&quot;agent_99&quot;</td><td>0.584365</td><td>0.715642</td><td>0.975542</td><td>0.733255</td><td>0.935606</td></tr></tbody></table></div>"
      ],
      "text/plain": [
       "shape: (9, 7)\n",
       "┌────────────┬──────────┬──────────────┬──────────────┬──────────────┬──────────────┬──────────────┐\n",
       "│ statistic  ┆ agent_id ┆ current_ener ┆ current_soci ┆ current_weap ┆ current_hung ┆ current_mana │\n",
       "│ ---        ┆ ---      ┆ gy           ┆ al           ┆ on_strength  ┆ er           ┆ gement_skill │\n",
       "│ str        ┆ str      ┆ ---          ┆ ---          ┆ ---          ┆ ---          ┆ ---          │\n",
       "│            ┆          ┆ f64          ┆ f64          ┆ f64          ┆ f64          ┆ f64          │\n",
       "╞════════════╪══════════╪══════════════╪══════════════╪══════════════╪══════════════╪══════════════╡\n",
       "│ count      ┆ 100      ┆ 100.0        ┆ 100.0        ┆ 100.0        ┆ 100.0        ┆ 100.0        │\n",
       "│ null_count ┆ 0        ┆ 0.0          ┆ 0.0          ┆ 0.0          ┆ 0.0          ┆ 0.0          │\n",
       "│ mean       ┆ null     ┆ 0.401986     ┆ 0.630966     ┆ 0.966225     ┆ 0.57335      ┆ 0.918306     │\n",
       "│ std        ┆ null     ┆ 0.09338      ┆ 0.048484     ┆ 0.010507     ┆ 0.086577     ┆ 0.016281     │\n",
       "│ min        ┆ agent_1  ┆ 0.249163     ┆ 0.518135     ┆ 0.918308     ┆ 0.404565     ┆ 0.85562      │\n",
       "│ 25%        ┆ null     ┆ 0.325003     ┆ 0.600566     ┆ 0.965076     ┆ 0.498671     ┆ 0.918221     │\n",
       "│ 50%        ┆ null     ┆ 0.395222     ┆ 0.627285     ┆ 0.968287     ┆ 0.583173     ┆ 0.923041     │\n",
       "│ 75%        ┆ null     ┆ 0.487906     ┆ 0.674171     ┆ 0.972099     ┆ 0.63589      ┆ 0.927827     │\n",
       "│ max        ┆ agent_99 ┆ 0.584365     ┆ 0.715642     ┆ 0.975542     ┆ 0.733255     ┆ 0.935606     │\n",
       "└────────────┴──────────┴──────────────┴──────────────┴──────────────┴──────────────┴──────────────┘"
      ]
     },
     "execution_count": 36,
     "metadata": {},
     "output_type": "execute_result"
    }
   ],
   "source": [
    "last_rows.sort(\"agent_id\", descending=False).describe()"
   ]
  },
  {
   "cell_type": "code",
   "execution_count": 34,
   "id": "c047e987",
   "metadata": {},
   "outputs": [
    {
     "data": {
      "image/png": "[encoded data removed]",
      "text/plain": [
       "<Figure size 640x480 with 1 Axes>"
      ]
     },
     "metadata": {},
     "output_type": "display_data"
    }
   ],
   "source": [
    "plt.hist(temporal_memory[\"current_energy\"])\n",
    "plt.show()"
   ]
  },
  {
   "cell_type": "code",
   "execution_count": 35,
   "id": "bff3735a",
   "metadata": {},
   "outputs": [
    {
     "data": {
      "image/png": "[encoded data removed]",
      "text/plain": [
       "<Figure size 640x480 with 1 Axes>"
      ]
     },
     "metadata": {},
     "output_type": "display_data"
    }
   ],
   "source": [
    "plt.hist(temporal_memory[\"current_social\"])\n",
    "plt.show()"
   ]
  },
  {
   "cell_type": "code",
   "execution_count": null,
   "id": "570d3811",
   "metadata": {},
   "outputs": [],
   "source": []
  }
 ],
 "metadata": {
  "kernelspec": {
   "display_name": ".venv",
   "language": "python",
   "name": "python3"
  },
  "language_info": {
   "codemirror_mode": {
    "name": "ipython",
    "version": 3
   },
   "file_extension": ".py",
   "mimetype": "text/x-python",
   "name": "python",
   "nbconvert_exporter": "python",
   "pygments_lexer": "ipython3",
   "version": "3.13.5"
  }
 },
 "nbformat": 4,
 "nbformat_minor": 5
}
